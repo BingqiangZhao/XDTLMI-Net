{
 "cells": [
  {
   "cell_type": "markdown",
   "id": "730a12a2",
   "metadata": {},
   "source": [
    "Copyright (C) 2023, Zhao Bingqiang, All Rights Reserved\n",
    "\n",
    "Email: zbqherb@163.com\n",
    "\n",
    "2023-05-23"
   ]
  },
  {
   "cell_type": "markdown",
   "id": "29682208",
   "metadata": {},
   "source": [
    "# Import Libs"
   ]
  },
  {
   "cell_type": "code",
   "execution_count": null,
   "id": "56663c42",
   "metadata": {},
   "outputs": [],
   "source": [
    "import os\n",
    "import cv2\n",
    "import math\n",
    "import shutil\n",
    "import random\n",
    "\n",
    "import numpy as np\n",
    "import pandas as pd\n",
    "import matplotlib.pyplot as plt\n",
    "%matplotlib inline\n",
    "import matplotlib.image as mpimg\n",
    "\n",
    "from tqdm import tqdm\n",
    "from mpl_toolkits.axes_grid1 import ImageGrid\n",
    "from scipy.stats import gaussian_kde\n",
    "from matplotlib.colors import LogNorm\n",
    "\n",
    "plt.rcParams['font.sans-serif'] = ['SimHei']\n",
    "plt.rcParams['axes.unicode_minus'] = False\n",
    "\n",
    "import warnings\n",
    "warnings.filterwarnings(\"ignore\")"
   ]
  },
  {
   "cell_type": "markdown",
   "id": "748b41b7",
   "metadata": {},
   "source": [
    "## Creat directory"
   ]
  },
  {
   "cell_type": "code",
   "execution_count": null,
   "id": "47961963",
   "metadata": {},
   "outputs": [],
   "source": [
    "if not os.path.exists('figure'):\n",
    "    os.makedirs('figure')\n",
    "if not os.path.exists('table'):\n",
    "    os.makedirs('table')\n",
    "if not os.path.exists('checkpoint'):\n",
    "    os.makedirs('checkpoint')"
   ]
  },
  {
   "cell_type": "markdown",
   "id": "4b35a77c",
   "metadata": {},
   "source": [
    "## Image Data Exploratory Analysis"
   ]
  },
  {
   "cell_type": "markdown",
   "id": "014eae44",
   "metadata": {},
   "source": [
    "### Image Size Distribution"
   ]
  },
  {
   "cell_type": "code",
   "execution_count": null,
   "id": "50593eeb",
   "metadata": {},
   "outputs": [],
   "source": [
    "dataset_path = 'data'\n",
    "os.chdir(dataset_path)\n",
    "os.listdir()"
   ]
  },
  {
   "cell_type": "code",
   "execution_count": null,
   "id": "b0696243",
   "metadata": {},
   "outputs": [],
   "source": [
    "df = pd.DataFrame()\n",
    "\n",
    "for image in tqdm(os.listdir()): # scanning each class   \n",
    "    os.chdir(image)\n",
    "    for file in os.listdir(): # scanning each image\n",
    "        try:\n",
    "            img = cv2.imread(file)\n",
    "            df = df.append({'Class':image, 'File_Name':file, 'Width':img.shape[1], 'Height':img.shape[0]}, ignore_index=True)\n",
    "        except:\n",
    "            print(os.path.join(image, file), 'Read Error')\n",
    "    os.chdir('../')\n",
    "os.chdir('../')"
   ]
  },
  {
   "cell_type": "code",
   "execution_count": null,
   "id": "1814ce75",
   "metadata": {},
   "outputs": [],
   "source": [
    "df"
   ]
  },
  {
   "cell_type": "markdown",
   "id": "fd1b04a9",
   "metadata": {},
   "source": [
    "### Visualize Image Size Distribution"
   ]
  },
  {
   "cell_type": "code",
   "execution_count": null,
   "id": "530a8437",
   "metadata": {},
   "outputs": [],
   "source": [
    "x = df['Width']\n",
    "y = df['Height']\n",
    "\n",
    "xy = np.vstack([x, y])\n",
    "z = gaussian_kde(xy)(xy)\n",
    "\n",
    "# Sort the points by density, so that the densest points are plotted last\n",
    "idx = z.argsort()\n",
    "x, y, z = x[idx], y[idx], z[idx]\n",
    "\n",
    "plt.figure(figsize = (15,10))\n",
    "plt.scatter(x, y, c = z,  s = 5, cmap = 'Spectral_r')\n",
    "plt.colorbar(ticks = [])\n",
    "plt.tick_params(labelsize = 25)\n",
    "xy_max = max(max(df['Width']), max(df['Height']))\n",
    "plt.xlim(xmin = 100, xmax = xy_max)\n",
    "plt.ylim(ymin = 100, ymax = xy_max)\n",
    "\n",
    "plt.ylabel('Height', fontsize = 25)\n",
    "plt.xlabel('Width', fontsize = 25)\n",
    "\n",
    "plt.savefig('figure/Image_Size_Distribution.tif', dpi = 300, bbox_inches = 'tight')"
   ]
  },
  {
   "cell_type": "markdown",
   "id": "d06696fb",
   "metadata": {},
   "source": [
    "## Dataset Split"
   ]
  },
  {
   "cell_type": "markdown",
   "id": "d36b5c0a",
   "metadata": {},
   "source": [
    "###  Create `train_dataset` and `test_dataset`"
   ]
  },
  {
   "cell_type": "code",
   "execution_count": null,
   "id": "13dd02f4",
   "metadata": {},
   "outputs": [],
   "source": [
    "classes = os.listdir(dataset_path)\n",
    "\n",
    "# new train directory\n",
    "os.mkdir(os.path.join(dataset_path, 'train'))\n",
    "# new test directory\n",
    "os.mkdir(os.path.join(dataset_path, 'val'))\n",
    "\n",
    "# new each class directory in the train and test directory\n",
    "for image in classes:\n",
    "    os.mkdir(os.path.join(dataset_path, 'train', image))\n",
    "    os.mkdir(os.path.join(dataset_path, 'val', image))"
   ]
  },
  {
   "cell_type": "markdown",
   "id": "86d6be1d",
   "metadata": {},
   "source": [
    "### Split `train_dataset` and `test_dataset` while move image file\n",
    "\n",
    "We split the fine-tuning dataset into train and validation sets. We randomly sample 20% of the dataset to used as a validation set."
   ]
  },
  {
   "cell_type": "code",
   "execution_count": null,
   "id": "0f18b7da",
   "metadata": {},
   "outputs": [],
   "source": [
    "dataset_name = dataset_path.split('_')[0]\n",
    "\n",
    "test_frac = 0.2  # test_dataset ratio\n",
    "\n",
    "random.seed(123) \n",
    "\n",
    "df = pd.DataFrame()\n",
    "\n",
    "print('{:^18} {:^18} {:^18}'.format('Class', 'train_dataset number', 'test_dataset number'))\n",
    "\n",
    "for image in classes: # scanning each class\n",
    "\n",
    "    # Read all image file names for this class\n",
    "    old_dir = os.path.join(dataset_path, image)\n",
    "    images_filename = os.listdir(old_dir)\n",
    "    random.shuffle(images_filename) # Shuffle at random\n",
    "\n",
    "    # Split tarin_dataset and test_dataset\n",
    "    testset_numer = int(len(images_filename) * test_frac) # test_dataset image number\n",
    "    testset_images = images_filename[:testset_numer]      # Gets the file name of the test set image will be move to the test_dataset directory\n",
    "    trainset_images = images_filename[testset_numer:]     # Gets the file name of the train set image will be move to the train_dataset directory\n",
    "\n",
    "    # Move image to test directory\n",
    "    for images in testset_images:\n",
    "        old_img_path = os.path.join(dataset_path, image, images)         # Gets the original file path\n",
    "        new_test_path = os.path.join(dataset_path, 'val', image, images) # Gets the new file path of the test_dataset directory\n",
    "        shutil.move(old_img_path, new_test_path) # move file\n",
    "\n",
    "    # Move image to train directory\n",
    "    for images in trainset_images:\n",
    "        old_img_path = os.path.join(dataset_path, image, images)           # Gets the original file path\n",
    "        new_train_path = os.path.join(dataset_path, 'train', image, images) # Gets the new file path of the train_dataset directory\n",
    "        shutil.move(old_img_path, new_train_path) # move file\n",
    "    \n",
    "    # Delete old image directory\n",
    "    assert len(os.listdir(old_dir)) == 0 # Make sure all the images in the old directory were moved away\n",
    "    shutil.rmtree(old_dir) # Delete directory\n",
    "    \n",
    "    # Output the number of data for each class\n",
    "    print('{:^18} {:^18} {:^18}'.format(image, len(trainset_images), len(testset_images)))\n",
    "    \n",
    "    # Save to the table\n",
    "    df = df._append({'class':image, 'trainset':len(trainset_images), 'testset':len(testset_images)}, ignore_index=True)\n",
    "\n",
    "# Rename the data set directory\n",
    "shutil.move(dataset_path, dataset_name+'_split')\n",
    "\n",
    "# The quantity statistics table of each category of data set is exported as a csv file\n",
    "df['total'] = df['trainset'] + df['testset']\n",
    "df.to_csv('table/Image quantity statistics.csv', index = False)"
   ]
  },
  {
   "cell_type": "code",
   "execution_count": null,
   "id": "07375dbe",
   "metadata": {},
   "outputs": [],
   "source": [
    "df"
   ]
  },
  {
   "cell_type": "markdown",
   "id": "76e2a2cb",
   "metadata": {},
   "source": [
    "### File directory structure"
   ]
  },
  {
   "cell_type": "code",
   "execution_count": null,
   "id": "28ebcc4a",
   "metadata": {
    "scrolled": true
   },
   "outputs": [],
   "source": [
    "!tree data_split"
   ]
  },
  {
   "cell_type": "markdown",
   "id": "2841340f",
   "metadata": {},
   "source": [
    "# Visualize Raw Images"
   ]
  },
  {
   "cell_type": "code",
   "execution_count": null,
   "id": "ce1962e5",
   "metadata": {},
   "outputs": [],
   "source": [
    "# Specify the directory where you want to visualize the image\n",
    "folder_path = 'data_split/train/CAP'\n",
    "N = 9   # The number of visualized images\n",
    "n = math.floor(np.sqrt(N))\n",
    "# read all the images in the directory\n",
    "images = []\n",
    "for each_img in os.listdir(folder_path)[:N]:\n",
    "    img_path = os.path.join(folder_path, each_img)\n",
    "    img_bgr = cv2.imread(img_path)\n",
    "    img_rgb = cv2.cvtColor(img_bgr, cv2.COLOR_BGR2RGB)\n",
    "    images.append(img_rgb)\n",
    "\n",
    "# show the images\n",
    "fig = plt.figure(figsize = (10, 10))\n",
    "grid = ImageGrid(fig, 111,  \n",
    "                 nrows_ncols = (n, n),  \n",
    "                 axes_pad = 0.02,  \n",
    "                 share_all = True\n",
    "                 )\n",
    "## Scanning each image\n",
    "for ax, im in zip(grid, images):\n",
    "    ax.imshow(im)\n",
    "    ax.axis('off')\n",
    "plt.tight_layout()\n",
    "plt.savefig('figure/Raw images show_CAP.tif', dpi = 300, bbox_inches = 'tight') "
   ]
  },
  {
   "cell_type": "markdown",
   "id": "1acd3e2d",
   "metadata": {},
   "source": [
    "# Image Number Statistics"
   ]
  },
  {
   "cell_type": "markdown",
   "id": "97d9cc1a",
   "metadata": {},
   "source": [
    "## Load `Image quantity statistics.csv`"
   ]
  },
  {
   "cell_type": "code",
   "execution_count": null,
   "id": "5950a31d",
   "metadata": {},
   "outputs": [],
   "source": [
    "df = pd.read_csv('table/Image quantity statistics.csv')\n",
    "print(df.shape)\n",
    "\n",
    "# Visualize image number via bar chart\n",
    "## visualize feature\n",
    "feature = 'total'\n",
    "# feature = 'trainset'\n",
    "# feature = 'testset'\n",
    "\n",
    "df = df.sort_values(by = feature, ascending = False)\n",
    "df.head()"
   ]
  },
  {
   "cell_type": "code",
   "execution_count": null,
   "id": "7887f173",
   "metadata": {},
   "outputs": [],
   "source": [
    "plt.figure(figsize = (15, 5))\n",
    "\n",
    "x = df['class']\n",
    "y = df[feature]\n",
    "\n",
    "plt.bar(x, y, facecolor = '#1f77b4', edgecolor = 'k')\n",
    "plt.xticks(rotation = 45)\n",
    "plt.tick_params(labelsize = 25)\n",
    "plt.ylabel('Image Number', fontsize = 25)\n",
    "plt.savefig('figure/Image Number.tif', dpi = 300, bbox_inches = 'tight')"
   ]
  },
  {
   "cell_type": "code",
   "execution_count": null,
   "id": "14a6aa11",
   "metadata": {},
   "outputs": [],
   "source": [
    "plt.figure(figsize = (15, 5))\n",
    "x = df['class']\n",
    "y1 = df['testset']\n",
    "y2 = df['trainset']\n",
    "\n",
    "width = 0.55 \n",
    "\n",
    "plt.xticks(rotation = 45,fontsize = 25) \n",
    "plt.bar(x, y1, width, label = 'test_dataset')\n",
    "plt.bar(x, y2, width, label = 'train_dataset', bottom = y1)\n",
    "\n",
    "plt.ylabel('Image Number', fontsize = 25)\n",
    "plt.tick_params(labelsize = 25) \n",
    "plt.legend(fontsize = 18, frameon = False)\n",
    "plt.savefig('figure/Image Number_split.tif', dpi = 300, bbox_inches = 'tight')"
   ]
  },
  {
   "cell_type": "code",
   "execution_count": null,
   "id": "41cd7ed7",
   "metadata": {},
   "outputs": [],
   "source": []
  }
 ],
 "metadata": {
  "kernelspec": {
   "display_name": "ImageClassification",
   "language": "python",
   "name": "imageclassification"
  },
  "language_info": {
   "codemirror_mode": {
    "name": "ipython",
    "version": 3
   },
   "file_extension": ".py",
   "mimetype": "text/x-python",
   "name": "python",
   "nbconvert_exporter": "python",
   "pygments_lexer": "ipython3",
   "version": "3.9.16"
  }
 },
 "nbformat": 4,
 "nbformat_minor": 5
}
